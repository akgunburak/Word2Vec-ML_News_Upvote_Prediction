{
 "cells": [
  {
   "cell_type": "code",
   "execution_count": 28,
   "id": "6a5a5047",
   "metadata": {},
   "outputs": [],
   "source": [
    "import tensorflow as tf\n",
    "import pandas as pd\n",
    "import numpy as np\n",
    "import matplotlib.pyplot as plt\n",
    "\n",
    "\n",
    "def load_data(path, batch_size):\n",
    "    \"\"\"\n",
    "    \n",
    "    Parameters\n",
    "    ----------\n",
    "    path : str\n",
    "        Path of dataset\n",
    "    batch_size : int\n",
    "        The number of sample to be fetched randomly\n",
    "\n",
    "    Returns\n",
    "    -------\n",
    "    dataset : Pandas DataFrame\n",
    "\n",
    "    \"\"\"\n",
    "    dataset = tf.data.experimental.make_csv_dataset(path,\n",
    "                                                    batch_size=batch_size)\n",
    "    [(dataset)] = dataset.take(1)\n",
    "    dataset = pd.DataFrame(dataset)\n",
    "    return dataset\n",
    "\n",
    "\n",
    "# Loading the sample data\n",
    "dataset = load_data(\"Eluvio_DS_Challenge.csv\", 500000)"
   ]
  },
  {
   "cell_type": "markdown",
   "id": "4f61cc31",
   "metadata": {},
   "source": [
    "### Quick look at the data"
   ]
  },
  {
   "cell_type": "code",
   "execution_count": 29,
   "id": "741595ed",
   "metadata": {
    "scrolled": true
   },
   "outputs": [
    {
     "name": "stdout",
     "output_type": "stream",
     "text": [
      "   time_created   date_created  up_votes  down_votes  \\\n",
      "0    1207326655  b'2008-04-04'         1           0   \n",
      "1    1202803236  b'2008-02-12'         1           0   \n",
      "2    1213639791  b'2008-06-16'         2           0   \n",
      "3    1204654760  b'2008-03-04'         0           0   \n",
      "4    1207141296  b'2008-04-02'         1           0   \n",
      "\n",
      "                                               title   over_18       author  \\\n",
      "0  b'First female Arab soldier joins elite unit i...  b'False'    b'vadimm'   \n",
      "1  b'Russian Tupolev 95 flew directly over the ai...  b'False'   b'quitNow'   \n",
      "2      b'EU has no clue who runs its foreign policy'  b'False'    b'vadimm'   \n",
      "3  b'Police Become Prey: Wild Boar Hunts Police i...  b'False'  b'igeldard'   \n",
      "4  b'Looking for an objective article on Tibet?  ...  b'False'   b'uwjames'   \n",
      "\n",
      "       category  \n",
      "0  b'worldnews'  \n",
      "1  b'worldnews'  \n",
      "2  b'worldnews'  \n",
      "3  b'worldnews'  \n",
      "4  b'worldnews'  \n"
     ]
    }
   ],
   "source": [
    "print(dataset.head())"
   ]
  },
  {
   "cell_type": "markdown",
   "id": "d448f778",
   "metadata": {},
   "source": [
    "### Calculating the statistical parameters of the numerical variables"
   ]
  },
  {
   "cell_type": "code",
   "execution_count": 24,
   "id": "00d51290",
   "metadata": {
    "scrolled": true
   },
   "outputs": [
    {
     "data": {
      "text/html": [
       "<div>\n",
       "<style scoped>\n",
       "    .dataframe tbody tr th:only-of-type {\n",
       "        vertical-align: middle;\n",
       "    }\n",
       "\n",
       "    .dataframe tbody tr th {\n",
       "        vertical-align: top;\n",
       "    }\n",
       "\n",
       "    .dataframe thead th {\n",
       "        text-align: right;\n",
       "    }\n",
       "</style>\n",
       "<table border=\"1\" class=\"dataframe\">\n",
       "  <thead>\n",
       "    <tr style=\"text-align: right;\">\n",
       "      <th></th>\n",
       "      <th>time_created</th>\n",
       "      <th>up_votes</th>\n",
       "      <th>down_votes</th>\n",
       "    </tr>\n",
       "  </thead>\n",
       "  <tbody>\n",
       "    <tr>\n",
       "      <th>count</th>\n",
       "      <td>5.000000e+05</td>\n",
       "      <td>500000.000000</td>\n",
       "      <td>500000.0</td>\n",
       "    </tr>\n",
       "    <tr>\n",
       "      <th>mean</th>\n",
       "      <td>1.378465e+09</td>\n",
       "      <td>110.830042</td>\n",
       "      <td>0.0</td>\n",
       "    </tr>\n",
       "    <tr>\n",
       "      <th>std</th>\n",
       "      <td>7.033105e+07</td>\n",
       "      <td>534.612968</td>\n",
       "      <td>0.0</td>\n",
       "    </tr>\n",
       "    <tr>\n",
       "      <th>min</th>\n",
       "      <td>1.201232e+09</td>\n",
       "      <td>0.000000</td>\n",
       "      <td>0.0</td>\n",
       "    </tr>\n",
       "    <tr>\n",
       "      <th>25%</th>\n",
       "      <td>1.339491e+09</td>\n",
       "      <td>1.000000</td>\n",
       "      <td>0.0</td>\n",
       "    </tr>\n",
       "    <tr>\n",
       "      <th>50%</th>\n",
       "      <td>1.391521e+09</td>\n",
       "      <td>5.000000</td>\n",
       "      <td>0.0</td>\n",
       "    </tr>\n",
       "    <tr>\n",
       "      <th>75%</th>\n",
       "      <td>1.433984e+09</td>\n",
       "      <td>16.000000</td>\n",
       "      <td>0.0</td>\n",
       "    </tr>\n",
       "    <tr>\n",
       "      <th>max</th>\n",
       "      <td>1.479817e+09</td>\n",
       "      <td>21253.000000</td>\n",
       "      <td>0.0</td>\n",
       "    </tr>\n",
       "  </tbody>\n",
       "</table>\n",
       "</div>"
      ],
      "text/plain": [
       "       time_created       up_votes  down_votes\n",
       "count  5.000000e+05  500000.000000    500000.0\n",
       "mean   1.378465e+09     110.830042         0.0\n",
       "std    7.033105e+07     534.612968         0.0\n",
       "min    1.201232e+09       0.000000         0.0\n",
       "25%    1.339491e+09       1.000000         0.0\n",
       "50%    1.391521e+09       5.000000         0.0\n",
       "75%    1.433984e+09      16.000000         0.0\n",
       "max    1.479817e+09   21253.000000         0.0"
      ]
     },
     "execution_count": 24,
     "metadata": {},
     "output_type": "execute_result"
    }
   ],
   "source": [
    "dataset.describe()"
   ]
  },
  {
   "cell_type": "markdown",
   "id": "0500b277",
   "metadata": {},
   "source": [
    "### Checking the unique values of variables"
   ]
  },
  {
   "cell_type": "code",
   "execution_count": 25,
   "id": "2703881d",
   "metadata": {},
   "outputs": [
    {
     "name": "stdout",
     "output_type": "stream",
     "text": [
      "0    500000\n",
      "Name: down_votes, dtype: int64\n",
      "b'False'    499686\n",
      "b'True'        314\n",
      "Name: over_18, dtype: int64\n",
      "b'worldnews'    500000\n",
      "Name: category, dtype: int64\n",
      "b'davidreiss666'       8896\n",
      "b'anutensil'           5667\n",
      "b'DoremusJessup'       4943\n",
      "b'igeldard'            4013\n",
      "b'maxwellhill'         3926\n",
      "                       ... \n",
      "b'de_real_shiz_niz'       1\n",
      "b'astrolabos'             1\n",
      "b'goolg22'                1\n",
      "b'j0hnsd'                 1\n",
      "b'EnriqueWhales'          1\n",
      "Name: author, Length: 84625, dtype: int64\n"
     ]
    }
   ],
   "source": [
    "print(dataset[\"down_votes\"].value_counts())\n",
    "print(dataset[\"over_18\"].value_counts())\n",
    "print(dataset[\"category\"].value_counts())\n",
    "print(dataset[\"author\"].value_counts())"
   ]
  },
  {
   "cell_type": "markdown",
   "id": "c7f1c920",
   "metadata": {},
   "source": [
    "### Plotting the histograms of numerical variables"
   ]
  },
  {
   "cell_type": "code",
   "execution_count": 26,
   "id": "14ab6457",
   "metadata": {},
   "outputs": [
    {
     "data": {
      "text/plain": [
       "array([[<AxesSubplot:title={'center':'time_created'}>,\n",
       "        <AxesSubplot:title={'center':'up_votes'}>],\n",
       "       [<AxesSubplot:title={'center':'down_votes'}>, <AxesSubplot:>]],\n",
       "      dtype=object)"
      ]
     },
     "execution_count": 26,
     "metadata": {},
     "output_type": "execute_result"
    },
    {
     "data": {
      "image/png": "[encoded data removed]",
      "text/plain": [
       "<Figure size 432x288 with 4 Axes>"
      ]
     },
     "metadata": {
      "needs_background": "light"
     },
     "output_type": "display_data"
    }
   ],
   "source": [
    "dataset.hist()"
   ]
  },
  {
   "cell_type": "markdown",
   "id": "d2cf2442",
   "metadata": {},
   "source": [
    "### Plotting the scatter plot of 'up_votes' to check if there are outliers"
   ]
  },
  {
   "cell_type": "code",
   "execution_count": 27,
   "id": "e70eb355",
   "metadata": {},
   "outputs": [
    {
     "data": {
      "image/png": "[encoded data removed]",
      "text/plain": [
       "<Figure size 432x288 with 1 Axes>"
      ]
     },
     "metadata": {
      "needs_background": "light"
     },
     "output_type": "display_data"
    }
   ],
   "source": [
    "plt.scatter(dataset[\"up_votes\"], dataset.index)\n",
    "plt.show()"
   ]
  }
 ],
 "metadata": {
  "kernelspec": {
   "display_name": "Python 3",
   "language": "python",
   "name": "python3"
  },
  "language_info": {
   "codemirror_mode": {
    "name": "ipython",
    "version": 3
   },
   "file_extension": ".py",
   "mimetype": "text/x-python",
   "name": "python",
   "nbconvert_exporter": "python",
   "pygments_lexer": "ipython3",
   "version": "3.8.8"
  }
 },
 "nbformat": 4,
 "nbformat_minor": 5
}
